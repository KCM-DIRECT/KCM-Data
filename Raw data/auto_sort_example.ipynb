{
 "cells": [
  {
   "cell_type": "markdown",
   "id": "4aaaaa8b",
   "metadata": {},
   "source": [
    "## Example to show how to auto-sort all csv files ##\n",
    "Before running any code, please make sure the following condition are met:\n",
    "\n",
    "<p>master_function.py\n",
    "  /  module_changes.py\n",
    "  /  organize_functions.py\n",
    "  /  sort_bus_by_date.py</p>\n",
    "(are all in the same folder as the csv files you want to sort out)\n",
    "\n",
    "For KCM data: all 3 files in the Raw data set combined should have 1102 items. (NO duplicate file)\n",
    "<p>For KCM data: with the additional 4 '.py' files and this Example notebook, you should have 1107 items in the folder before running the following code."
   ]
  },
  {
   "cell_type": "code",
   "execution_count": 1,
   "id": "58f3ca79",
   "metadata": {},
   "outputs": [],
   "source": [
    "# run the following:\n",
    "\n",
    "# import master_function as mf\n",
    "\n",
    "# directory = mf.of.find_directory()\n",
    "# mf.of.group_files(directory)\n",
    "# mf.fliter_false_module()\n",
    "# mf.move_false_bus()"
   ]
  },
  {
   "cell_type": "code",
   "execution_count": 1,
   "id": "a3f91b8b",
   "metadata": {},
   "outputs": [],
   "source": [
    "import master_function as mf"
   ]
  },
  {
   "cell_type": "code",
   "execution_count": 2,
   "id": "824e013b",
   "metadata": {},
   "outputs": [
    {
     "name": "stdout",
     "output_type": "stream",
     "text": [
      "/Users/keiton1/Desktop/KCM-Data/Raw data/all_file\n",
      "/Users/keiton1/Desktop/KCM-Data/Raw data/all_file\n",
      "/Users/keiton1/Desktop/KCM-Data/Raw data/all_file\n",
      "/Users/keiton1/Desktop/KCM-Data/Raw data/all_file\n"
     ]
    }
   ],
   "source": [
    "directory = mf.of.find_directory()\n",
    "mf.of.group_files(directory)\n",
    "mf.fliter_false_module()\n",
    "mf.move_false_bus()"
   ]
  },
  {
   "cell_type": "markdown",
   "id": "166d1086",
   "metadata": {},
   "source": [
    "## After running, you should have a new file named \"False_files\", which contains all buses that have their modules changed. All other bus_# files outside of the \"False_file\" are buses that never have their module changed.##\n",
    "\n",
    "## It should run no longer than 10 mins"
   ]
  },
  {
   "cell_type": "code",
   "execution_count": null,
   "id": "d61404fc",
   "metadata": {},
   "outputs": [],
   "source": []
  }
 ],
 "metadata": {
  "kernelspec": {
   "display_name": "Python 3",
   "language": "python",
   "name": "python3"
  },
  "language_info": {
   "codemirror_mode": {
    "name": "ipython",
    "version": 3
   },
   "file_extension": ".py",
   "mimetype": "text/x-python",
   "name": "python",
   "nbconvert_exporter": "python",
   "pygments_lexer": "ipython3",
   "version": "3.9.2"
  }
 },
 "nbformat": 4,
 "nbformat_minor": 5
}
