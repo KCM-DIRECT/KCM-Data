{
 "cells": [
  {
   "cell_type": "code",
   "execution_count": 1,
   "id": "fifteen-stake",
   "metadata": {
    "scrolled": true
   },
   "outputs": [
    {
     "name": "stdout",
     "output_type": "stream",
     "text": [
      "['bus_1' 'bus_10' 'bus_100' 'bus_103' 'bus_104' 'bus_107' 'bus_110'\n",
      " 'bus_115' 'bus_117' 'bus_118' 'bus_119' 'bus_121' 'bus_123' 'bus_124'\n",
      " 'bus_125' 'bus_128' 'bus_130' 'bus_131' 'bus_138' 'bus_142' 'bus_151'\n",
      " 'bus_152' 'bus_153' 'bus_154' 'bus_163' 'bus_166' 'bus_2' 'bus_23'\n",
      " 'bus_35' 'bus_37' 'bus_38' 'bus_39' 'bus_4' 'bus_40' 'bus_42' 'bus_43'\n",
      " 'bus_44' 'bus_47' 'bus_48' 'bus_5' 'bus_50' 'bus_56' 'bus_58' 'bus_59'\n",
      " 'bus_64' 'bus_66' 'bus_67' 'bus_68' 'bus_7' 'bus_71' 'bus_72' 'bus_75'\n",
      " 'bus_76' 'bus_79' 'bus_81' 'bus_82' 'bus_84' 'bus_85' 'bus_87' 'bus_9'\n",
      " 'bus_90' 'bus_91' 'bus_93' 'bus_94' 'bus_96' 'bus_97' 'bus_98']\n",
      "/mnt/c/Users/spris/Desktop/DIRECT/Capstone/KCM-Data/sorted_data/\n",
      "/mnt/c/Users/spris/Desktop/DIRECT/Capstone/KCM-Data/sorted_data/Cleaned_Buses\n"
     ]
    }
   ],
   "source": [
    "import auto_sort_data"
   ]
  },
  {
   "cell_type": "code",
   "execution_count": null,
   "id": "aggregate-double",
   "metadata": {},
   "outputs": [],
   "source": []
  }
 ],
 "metadata": {
  "kernelspec": {
   "display_name": "Python 3",
   "language": "python",
   "name": "python3"
  },
  "language_info": {
   "codemirror_mode": {
    "name": "ipython",
    "version": 3
   },
   "file_extension": ".py",
   "mimetype": "text/x-python",
   "name": "python",
   "nbconvert_exporter": "python",
   "pygments_lexer": "ipython3",
   "version": "3.8.5"
  }
 },
 "nbformat": 4,
 "nbformat_minor": 5
}
