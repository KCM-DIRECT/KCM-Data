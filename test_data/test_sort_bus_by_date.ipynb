{
 "cells": [
  {
   "cell_type": "code",
   "execution_count": 9,
   "id": "f216fd1d",
   "metadata": {},
   "outputs": [],
   "source": [
    "import sort_bus_by_date\n",
    "import organize_functions\n",
    "import pandas as pd"
   ]
  },
  {
   "cell_type": "code",
   "execution_count": 10,
   "id": "60173e71",
   "metadata": {},
   "outputs": [],
   "source": [
    "def test_sort_by_bus_1():\n",
    "    '''\n",
    "    Tests to determine that a dataframe was returned.\n",
    "    '''\n",
    "    directory = organize_functions.find_directory()\n",
    "    print(directory)\n",
    "    df = sort_bus_by_date.sort_bus_by_date(directory, 'bus_1/')\n",
    "    assert isinstance(df, pd.DataFrame)"
   ]
  },
  {
   "cell_type": "code",
   "execution_count": 11,
   "id": "3ae114b1",
   "metadata": {},
   "outputs": [
    {
     "ename": "FileNotFoundError",
     "evalue": "[Errno 2] No such file or directory: '/mnt/d/Documents/Capstone/KCM-Data/Organization/Raw data/test_data/Cleaned buses/bus_1/'",
     "output_type": "error",
     "traceback": [
      "\u001b[0;31m---------------------------------------------------------------------------\u001b[0m",
      "\u001b[0;31mFileNotFoundError\u001b[0m                         Traceback (most recent call last)",
      "\u001b[0;32m<ipython-input-11-b17b63906ab5>\u001b[0m in \u001b[0;36m<module>\u001b[0;34m\u001b[0m\n\u001b[0;32m----> 1\u001b[0;31m \u001b[0mtest_sort_by_bus_1\u001b[0m\u001b[0;34m(\u001b[0m\u001b[0;34m)\u001b[0m\u001b[0;34m\u001b[0m\u001b[0;34m\u001b[0m\u001b[0m\n\u001b[0m",
      "\u001b[0;32m<ipython-input-10-44f260d1a45c>\u001b[0m in \u001b[0;36mtest_sort_by_bus_1\u001b[0;34m()\u001b[0m\n\u001b[1;32m      4\u001b[0m     '''\n\u001b[1;32m      5\u001b[0m     \u001b[0mdirectory\u001b[0m \u001b[0;34m=\u001b[0m \u001b[0morganize_functions\u001b[0m\u001b[0;34m.\u001b[0m\u001b[0mfind_directory\u001b[0m\u001b[0;34m(\u001b[0m\u001b[0;34m)\u001b[0m\u001b[0;34m\u001b[0m\u001b[0;34m\u001b[0m\u001b[0m\n\u001b[0;32m----> 6\u001b[0;31m     \u001b[0mdf\u001b[0m \u001b[0;34m=\u001b[0m \u001b[0msort_bus_by_date\u001b[0m\u001b[0;34m.\u001b[0m\u001b[0msort_bus_by_date\u001b[0m\u001b[0;34m(\u001b[0m\u001b[0mdirectory\u001b[0m\u001b[0;34m,\u001b[0m \u001b[0;34m'bus_1/'\u001b[0m\u001b[0;34m)\u001b[0m\u001b[0;34m\u001b[0m\u001b[0;34m\u001b[0m\u001b[0m\n\u001b[0m\u001b[1;32m      7\u001b[0m     \u001b[0;32massert\u001b[0m \u001b[0misinstance\u001b[0m\u001b[0;34m(\u001b[0m\u001b[0mdf\u001b[0m\u001b[0;34m,\u001b[0m \u001b[0mpd\u001b[0m\u001b[0;34m.\u001b[0m\u001b[0mDataFrame\u001b[0m\u001b[0;34m)\u001b[0m\u001b[0;34m\u001b[0m\u001b[0;34m\u001b[0m\u001b[0m\n",
      "\u001b[0;32m/mnt/d/Documents/Capstone/KCM-Data/Organization/Raw data/test_data/sort_bus_by_date.py\u001b[0m in \u001b[0;36msort_bus_by_date\u001b[0;34m(directory, bus_num)\u001b[0m\n\u001b[1;32m     25\u001b[0m     \u001b[0;31m#make list of all files in bus folder\u001b[0m\u001b[0;34m\u001b[0m\u001b[0;34m\u001b[0m\u001b[0;34m\u001b[0m\u001b[0m\n\u001b[1;32m     26\u001b[0m     \u001b[0mcsv_list\u001b[0m \u001b[0;34m=\u001b[0m \u001b[0;34m[\u001b[0m\u001b[0;34m]\u001b[0m\u001b[0;34m\u001b[0m\u001b[0;34m\u001b[0m\u001b[0m\n\u001b[0;32m---> 27\u001b[0;31m     \u001b[0;32mfor\u001b[0m \u001b[0mfile\u001b[0m \u001b[0;32min\u001b[0m \u001b[0mlistdir\u001b[0m\u001b[0;34m(\u001b[0m\u001b[0mbus_directory\u001b[0m\u001b[0;34m)\u001b[0m\u001b[0;34m:\u001b[0m\u001b[0;34m\u001b[0m\u001b[0;34m\u001b[0m\u001b[0m\n\u001b[0m\u001b[1;32m     28\u001b[0m         \u001b[0;32mif\u001b[0m \u001b[0mfile\u001b[0m\u001b[0;34m.\u001b[0m\u001b[0mendswith\u001b[0m\u001b[0;34m(\u001b[0m\u001b[0;34m'.csv'\u001b[0m\u001b[0;34m)\u001b[0m\u001b[0;34m:\u001b[0m\u001b[0;34m\u001b[0m\u001b[0;34m\u001b[0m\u001b[0m\n\u001b[1;32m     29\u001b[0m             \u001b[0mcsv_list\u001b[0m\u001b[0;34m.\u001b[0m\u001b[0mappend\u001b[0m\u001b[0;34m(\u001b[0m\u001b[0mfile\u001b[0m\u001b[0;34m)\u001b[0m\u001b[0;34m\u001b[0m\u001b[0;34m\u001b[0m\u001b[0m\n",
      "\u001b[0;31mFileNotFoundError\u001b[0m: [Errno 2] No such file or directory: '/mnt/d/Documents/Capstone/KCM-Data/Organization/Raw data/test_data/Cleaned buses/bus_1/'"
     ]
    }
   ],
   "source": [
    "test_sort_by_bus_1()"
   ]
  },
  {
   "cell_type": "code",
   "execution_count": null,
   "id": "5200488c",
   "metadata": {},
   "outputs": [],
   "source": [
    "def test_sort_by_bus_2():\n",
    "    '''\n",
    "    Tests to determine that the date column of the dataframe contains only datetime type.\n",
    "    '''\n",
    "    \n",
    "    "
   ]
  },
  {
   "cell_type": "code",
   "execution_count": null,
   "id": "7b9e4671",
   "metadata": {},
   "outputs": [],
   "source": [
    "def test_sort_by_bus_3():\n",
    "    '''\n",
    "    Tests to determine that the name column of the dataframe contains only csv strings.\n",
    "    '''\n",
    "    "
   ]
  },
  {
   "cell_type": "code",
   "execution_count": null,
   "id": "72a1f126",
   "metadata": {},
   "outputs": [],
   "source": [
    "def test_build_bus_df_1():\n",
    "    '''\n",
    "    Tests to determine dataframe is returned.\n",
    "    '''\n",
    "    directory = organize_functions.find_directory()\n",
    "    print(directory)\n",
    "    df = sort_bus_by_date.build_bus_df(directory, )"
   ]
  }
 ],
 "metadata": {
  "kernelspec": {
   "display_name": "Python 3",
   "language": "python",
   "name": "python3"
  },
  "language_info": {
   "codemirror_mode": {
    "name": "ipython",
    "version": 3
   },
   "file_extension": ".py",
   "mimetype": "text/x-python",
   "name": "python",
   "nbconvert_exporter": "python",
   "pygments_lexer": "ipython3",
   "version": "3.9.4"
  }
 },
 "nbformat": 4,
 "nbformat_minor": 5
}
