{
 "cells": [
  {
   "cell_type": "code",
   "execution_count": 1,
   "id": "e862f045",
   "metadata": {},
   "outputs": [],
   "source": [
    "from os import listdir\n",
    "import organize_functions"
   ]
  },
  {
   "cell_type": "code",
   "execution_count": 2,
   "id": "76fcf360",
   "metadata": {},
   "outputs": [],
   "source": [
    "def test_find_directory_1():\n",
    "    '''\n",
    "    Tests that the returned directory path is a string.\n",
    "    '''\n",
    "    directory = organize_functions.find_directory()\n",
    "    assert isinstance(directory, str), 'The returned directory is not a string'\n",
    "    \n",
    "    return"
   ]
  },
  {
   "cell_type": "code",
   "execution_count": 3,
   "id": "49d0f81f",
   "metadata": {},
   "outputs": [],
   "source": [
    "def test_grab_csv_1():\n",
    "    '''\n",
    "    Tests that the return is a list.\n",
    "    '''\n",
    "    directory = organize_functions.find_directory()\n",
    "    list_of_csv = organize_functions.grab_csv(directory)\n",
    "    assert isinstance(list_of_csv, list), 'Returned CSV file names is not in list format.'"
   ]
  },
  {
   "cell_type": "code",
   "execution_count": 4,
   "id": "54daf886",
   "metadata": {},
   "outputs": [],
   "source": [
    "def test_grab_csv_2():\n",
    "    '''\n",
    "    Tests that the returned list only contains strings.\n",
    "    '''\n",
    "    directory = organize_functions.find_directory()\n",
    "    list_of_csv = organize_functions.grab_csv(directory)\n",
    "    for file_name in list_of_csv:\n",
    "        assert isinstance(file_name, str), 'The returned list of file names contains elements that are not strings'"
   ]
  },
  {
   "cell_type": "code",
   "execution_count": 5,
   "id": "9596b8f1",
   "metadata": {},
   "outputs": [],
   "source": [
    "def test_grab_csv_3():\n",
    "    '''\n",
    "    Tests that the returned strings all end with '.csv'.\n",
    "    '''\n",
    "    directory = organize_functions.find_directory()\n",
    "    list_of_csv = organize_functions.grab_csv(directory)\n",
    "    for file_name in list_of_csv:\n",
    "        assert file_name.endswith('.csv'), 'The returned list of file names contains elements that are not CSV files.'"
   ]
  },
  {
   "cell_type": "code",
   "execution_count": 6,
   "id": "68e40adc",
   "metadata": {},
   "outputs": [],
   "source": [
    "def test_group_files_1():\n",
    "    '''\n",
    "    Tests that the function has grouped the test files into bus_1, bus_2, and incomplete folders.\n",
    "    '''\n",
    "    target_folders = ['bus_1', 'bus_2', 'incomplete']\n",
    "    grouped_folders = []\n",
    "    directory = organize_functions.find_directory()\n",
    "    organize_functions.group_files(directory)\n",
    "    for filename in listdir(directory):\n",
    "        grouped_folders.append(filename)\n",
    "    for target in target_folders:\n",
    "        assert target in grouped_folders, 'Ideally, grouping function should produce three folders of names: bus_1, bus_2, and incomplete. One or more folders missing.'"
   ]
  },
  {
   "cell_type": "code",
   "execution_count": 19,
   "id": "2baebb29",
   "metadata": {
    "scrolled": true
   },
   "outputs": [],
   "source": [
    "def test_group_files_2():\n",
    "    '''\n",
    "    Tests that the function has grouped the test files into bus_1, bus_2, and incomplete folders.\n",
    "    '''\n",
    "    directory = organize_functions.find_directory()\n",
    "    target_folders = [directory + 'bus_1', directory + 'bus_2', directory + 'incomplete']\n",
    "    organize_functions.group_files(directory)\n",
    "    for folder in target_folders:\n",
    "        list_of_csv = organize_functions.grab_csv(folder)\n",
    "        assert len(list_of_csv) != 0, 'There is an empty folder.'"
   ]
  },
  {
   "cell_type": "code",
   "execution_count": 22,
   "id": "9953c0a9",
   "metadata": {},
   "outputs": [],
   "source": [
    "def test_group_files_3():\n",
    "    '''\n",
    "    Tests that the organized folders contain csv files only.\n",
    "    '''\n",
    "    directory = organize_functions.find_directory()\n",
    "    target_folders = [directory + 'bus_1', directory + 'bus_2', directory + 'incomplete']\n",
    "    organize_functions.group_files(directory)\n",
    "    for folder in target_folders:\n",
    "        list_of_csv = organize_functions.grab_csv(folder)\n",
    "        for file in list_of_csv:\n",
    "            assert file.endswith('.csv'), 'There is an non-CSV file.'"
   ]
  }
 ],
 "metadata": {
  "kernelspec": {
   "display_name": "Python 3",
   "language": "python",
   "name": "python3"
  },
  "language_info": {
   "codemirror_mode": {
    "name": "ipython",
    "version": 3
   },
   "file_extension": ".py",
   "mimetype": "text/x-python",
   "name": "python",
   "nbconvert_exporter": "python",
   "pygments_lexer": "ipython3",
   "version": "3.9.4"
  }
 },
 "nbformat": 4,
 "nbformat_minor": 5
}
